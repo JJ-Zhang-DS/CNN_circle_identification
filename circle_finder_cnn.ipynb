
{
 "cells": [
  {
   "cell_type": "markdown",
   "metadata": {},
   "source": [
    "# 🔵 Circle Finder CNN (From Scratch, PyTorch, Colab-ready)"
   ]
  },
  {
   "cell_type": "markdown",
   "metadata": {},
   "source": [
    "**Goal:** Predict the row, col, and radius of a noisy circle from 256x256 grayscale images using a CNN built from scratch."
   ]
  },
  {
   "cell_type": "code",
   "execution_count": null,
   "metadata": {},
   "outputs": [],
   "source": [
    "# ⚙️ Install dependencies (Colab)
",
    "!pip install shapely scikit-image"
   ]
  },
  {
   "cell_type": "code",
   "execution_count": null,
   "metadata": {},
   "outputs": [],
   "source": [
    "# 📁 Upload dataset (JSON format)
",
    "from google.colab import files
",
    "import zipfile
",
    "uploaded = files.upload()
",
    "
",
    "with zipfile.ZipFile('your_dataset.zip', 'r') as zip_ref:
",
    "    zip_ref.extractall('data')"
   ]
  },
  {
   "cell_type": "code",
   "execution_count": null,
   "metadata": {},
   "outputs": [],
   "source": [
    "# 📦 Imports
",
    "import torch
",
    "import torch.nn as nn
",
    "import torch.nn.functional as F
",
    "from torch.utils.data import Dataset, DataLoader
",
    "import numpy as np
",
    "import os
",
    "import json
",
    "from torchvision import transforms
",
    "from sklearn.model_selection import train_test_split"
   ]
  },
  {
   "cell_type": "code",
   "execution_count": null,
   "metadata": {},
   "outputs": [],
   "source": [
    "# 📚 Circle Dataset Loader
",
    "class CircleDataset(Dataset):
",
    "    def __init__(self, data_path):
",
    "        self.files = [os.path.join(data_path, f) for f in os.listdir(data_path) if f.endswith('.json')]
",
    "        self.transform = transforms.ToTensor()
",
    "
",
    "    def __len__(self):
",
    "        return len(self.files)
",
    "
",
    "    def __getitem__(self, idx):
",
    "        with open(self.files[idx], 'r') as f:
",
    "            data = json.load(f)
",
    "        img = np.array(data['img'], dtype=np.float32)
",
    "        label = data['label']
",
    "        img = np.expand_dims(img, axis=0)
",
    "        target = torch.tensor([label['row'], label['col'], label['radius']], dtype=torch.float32)
",
    "        return torch.tensor(img, dtype=torch.float32), target"
   ]
  },
  {
   "cell_type": "code",
   "execution_count": null,
   "metadata": {},
   "outputs": [],
   "source": [
    "# 🧠 CNN Model (from scratch)
",
    "class CircleFinderCNN(nn.Module):
",
    "    def __init__(self):
",
    "        super(CircleFinderCNN, self).__init__()
",
    "        self.conv1 = nn.Conv2d(1, 16, kernel_size=5, padding=2)
",
    "        self.pool = nn.MaxPool2d(2, 2)
",
    "        self.conv2 = nn.Conv2d(16, 32, kernel_size=5, padding=2)
",
    "        self.fc1 = nn.Linear(32 * 64 * 64, 128)
",
    "        self.fc2 = nn.Linear(128, 3)
",
    "
",
    "    def forward(self, x):
",
    "        x = self.pool(F.relu(self.conv1(x)))
",
    "        x = self.pool(F.relu(self.conv2(x)))
",
    "        x = x.view(-1, 32 * 64 * 64)
",
    "        x = F.relu(self.fc1(x))
",
    "        x = self.fc2(x)
",
    "        return x"
   ]
  },
  {
   "cell_type": "code",
   "execution_count": null,
   "metadata": {},
   "outputs": [],
   "source": [
    "# 🔁 Training Function
",
    "def train_model(model, train_loader, val_loader, device, epochs=10, lr=1e-3):
",
    "    optimizer = torch.optim.Adam(model.parameters(), lr=lr)
",
    "    criterion = nn.MSELoss()
",
    "    model.to(device)
",
    "    for epoch in range(epochs):
",
    "        model.train()
",
    "        train_loss = 0
",
    "        for imgs, targets in train_loader:
",
    "            imgs, targets = imgs.to(device), targets.to(device)
",
    "            optimizer.zero_grad()
",
    "            outputs = model(imgs)
",
    "            loss = criterion(outputs, targets)
",
    "            loss.backward()
",
    "            optimizer.step()
",
    "            train_loss += loss.item()
",
    "
",
    "        val_loss = 0
",
    "        model.eval()
",
    "        with torch.no_grad():
",
    "            for imgs, targets in val_loader:
",
    "                imgs, targets = imgs.to(device), targets.to(device)
",
    "                outputs = model(imgs)
",
    "                loss = criterion(outputs, targets)
",
    "                val_loss += loss.item()
",
    "
",
    "        print(f"Epoch {epoch+1}: Train Loss = {train_loss/len(train_loader):.4f}, Val Loss = {val_loss/len(val_loader):.4f}")"
   ]
  },
  {
   "cell_type": "code",
   "execution_count": null,
   "metadata": {},
   "outputs": [],
   "source": [
    "# 🚀 Train on your data
",
    "data_dir = './data'
",
    "full_dataset = CircleDataset(data_dir)
",
    "train_idx, val_idx = train_test_split(list(range(len(full_dataset))), test_size=0.2)
",
    "train_dataset = torch.utils.data.Subset(full_dataset, train_idx)
",
    "val_dataset = torch.utils.data.Subset(full_dataset, val_idx)
",
    "
",
    "train_loader = DataLoader(train_dataset, batch_size=16, shuffle=True)
",
    "val_loader = DataLoader(val_dataset, batch_size=16)
",
    "
",
    "device = torch.device('cuda' if torch.cuda.is_available() else 'cpu')
",
    "model = CircleFinderCNN()
",
    "train_model(model, train_loader, val_loader, device, epochs=10)"
   ]
  }
 ],
 "metadata": {
  "kernelspec": {
   "display_name": "Python 3",
   "language": "python",
   "name": "python3"
  },
  "language_info": {
   "name": "python",
   "version": ""
  }
 },
 "nbformat": 4,
 "nbformat_minor": 5
}
